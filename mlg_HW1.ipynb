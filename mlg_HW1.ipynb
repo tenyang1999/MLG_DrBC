{
 "cells": [
  {
   "cell_type": "code",
   "execution_count": 1,
   "id": "c915c36d-daf7-4d17-9aa9-49337c08113b",
   "metadata": {},
   "outputs": [],
   "source": [
    "import pandas as pd\n",
    "import numpy as np\n",
    "import networkx as nx\n",
    "import torch\n",
    "from torch_geometric.data import Data\n",
    "from torch_geometric.utils import to_networkx\n",
    "import torch_geometric.utils as tgu\n",
    "import torch.nn as nn\n",
    "import random\n",
    "import time\n",
    "import math\n",
    "import matplotlib.pyplot as plt\n",
    "import json"
   ]
  },
  {
   "cell_type": "code",
   "execution_count": 2,
   "id": "c56134a4-d6fd-4a4d-ba64-e602a78fe742",
   "metadata": {},
   "outputs": [
    {
     "data": {
      "text/html": [
       "\n",
       "\t\t\t<script type=\"text/javascript\">\n",
       "\t\t\t<!--\n",
       "\t\t\t\t\n",
       "\t\t\t{\n",
       "\t\t\t\tvar element = document.getElementById('NetworKit_script');\n",
       "\t\t\t\tif (element) {\n",
       "\t\t\t\t\telement.parentNode.removeChild(element);\n",
       "\t\t\t\t}\n",
       "\t\t\t\telement = document.createElement('script');\n",
       "\t\t\t\telement.type = 'text/javascript';\n",
       "\t\t\t\telement.innerHTML = 'function NetworKit_pageEmbed(id) { var i, j; var elements; elements = document.getElementById(id).getElementsByClassName(\"Plot\"); for (i=0; i<elements.length; i++) { elements[i].id = id + \"_Plot_\" + i; var data = elements[i].getAttribute(\"data-image\").split(\"|\"); elements[i].removeAttribute(\"data-image\"); var content = \"<div class=\\\\\"Image\\\\\" id=\\\\\"\" + elements[i].id + \"_Image\\\\\" />\"; elements[i].innerHTML = content; elements[i].setAttribute(\"data-image-index\", 0); elements[i].setAttribute(\"data-image-length\", data.length); for (j=0; j<data.length; j++) { elements[i].setAttribute(\"data-image-\" + j, data[j]); } NetworKit_plotUpdate(elements[i]); elements[i].onclick = function (e) { NetworKit_overlayShow((e.target) ? e.target : e.srcElement); } } elements = document.getElementById(id).getElementsByClassName(\"HeatCell\"); for (i=0; i<elements.length; i++) { var data = parseFloat(elements[i].getAttribute(\"data-heat\")); var color = \"#00FF00\"; if (data <= 1 && data > 0) { color = \"hsla(0, 100%, 75%, \" + (data) + \")\"; } else if (data <= 0 && data >= -1) { color = \"hsla(240, 100%, 75%, \" + (-data) + \")\"; } elements[i].style.backgroundColor = color; } elements = document.getElementById(id).getElementsByClassName(\"Details\"); for (i=0; i<elements.length; i++) { elements[i].setAttribute(\"data-title\", \"-\"); NetworKit_toggleDetails(elements[i]); elements[i].onclick = function (e) { NetworKit_toggleDetails((e.target) ? e.target : e.srcElement); } } elements = document.getElementById(id).getElementsByClassName(\"MathValue\"); for (i=elements.length-1; i>=0; i--) { value = elements[i].innerHTML.trim(); if (value === \"nan\") { elements[i].parentNode.innerHTML = \"\" } } elements = document.getElementById(id).getElementsByClassName(\"SubCategory\"); for (i=elements.length-1; i>=0; i--) { value = elements[i].innerHTML.trim(); if (value === \"\") { elements[i].parentNode.removeChild(elements[i]) } } elements = document.getElementById(id).getElementsByClassName(\"Category\"); for (i=elements.length-1; i>=0; i--) { value = elements[i].innerHTML.trim(); if (value === \"\") { elements[i].parentNode.removeChild(elements[i]) } } var isFirefox = false; try { isFirefox = typeof InstallTrigger !== \"undefined\"; } catch (e) {} if (!isFirefox) { alert(\"Currently the function\\'s output is only fully supported by Firefox.\"); } } function NetworKit_plotUpdate(source) { var index = source.getAttribute(\"data-image-index\"); var data = source.getAttribute(\"data-image-\" + index); var image = document.getElementById(source.id + \"_Image\"); image.style.backgroundImage = \"url(\" + data + \")\"; } function NetworKit_showElement(id, show) { var element = document.getElementById(id); element.style.display = (show) ? \"block\" : \"none\"; } function NetworKit_overlayShow(source) { NetworKit_overlayUpdate(source); NetworKit_showElement(\"NetworKit_Overlay\", true); } function NetworKit_overlayUpdate(source) { document.getElementById(\"NetworKit_Overlay_Title\").innerHTML = source.title; var index = source.getAttribute(\"data-image-index\"); var data = source.getAttribute(\"data-image-\" + index); var image = document.getElementById(\"NetworKit_Overlay_Image\"); image.setAttribute(\"data-id\", source.id); image.style.backgroundImage = \"url(\" + data + \")\"; var link = document.getElementById(\"NetworKit_Overlay_Toolbar_Bottom_Save\"); link.href = data; link.download = source.title + \".svg\"; } function NetworKit_overlayImageShift(delta) { var image = document.getElementById(\"NetworKit_Overlay_Image\"); var source = document.getElementById(image.getAttribute(\"data-id\")); var index = parseInt(source.getAttribute(\"data-image-index\")); var length = parseInt(source.getAttribute(\"data-image-length\")); var index = (index+delta) % length; if (index < 0) { index = length + index; } source.setAttribute(\"data-image-index\", index); NetworKit_overlayUpdate(source); } function NetworKit_toggleDetails(source) { var childs = source.children; var show = false; if (source.getAttribute(\"data-title\") == \"-\") { source.setAttribute(\"data-title\", \"+\"); show = false; } else { source.setAttribute(\"data-title\", \"-\"); show = true; } for (i=0; i<childs.length; i++) { if (show) { childs[i].style.display = \"block\"; } else { childs[i].style.display = \"none\"; } } }';\n",
       "\t\t\t\telement.setAttribute('id', 'NetworKit_script');\n",
       "\t\t\t\tdocument.head.appendChild(element);\n",
       "\t\t\t}\n",
       "\t\t\n",
       "\t\t\t\t\n",
       "\t\t\t{\n",
       "\t\t\t\tvar element = document.getElementById('NetworKit_style');\n",
       "\t\t\t\tif (element) {\n",
       "\t\t\t\t\telement.parentNode.removeChild(element);\n",
       "\t\t\t\t}\n",
       "\t\t\t\telement = document.createElement('style');\n",
       "\t\t\t\telement.type = 'text/css';\n",
       "\t\t\t\telement.innerHTML = '.NetworKit_Page { font-family: Arial, Helvetica, sans-serif; font-size: 14px; } .NetworKit_Page .Value:before { font-family: Arial, Helvetica, sans-serif; font-size: 1.05em; content: attr(data-title) \":\"; margin-left: -2.5em; padding-right: 0.5em; } .NetworKit_Page .Details .Value:before { display: block; } .NetworKit_Page .Value { font-family: monospace; white-space: pre; padding-left: 2.5em; white-space: -moz-pre-wrap !important; white-space: -pre-wrap; white-space: -o-pre-wrap; white-space: pre-wrap; word-wrap: break-word; tab-size: 4; -moz-tab-size: 4; } .NetworKit_Page .Category { clear: both; padding-left: 1em; margin-bottom: 1.5em; } .NetworKit_Page .Category:before { content: attr(data-title); font-size: 1.75em; display: block; margin-left: -0.8em; margin-bottom: 0.5em; } .NetworKit_Page .SubCategory { margin-bottom: 1.5em; padding-left: 1em; } .NetworKit_Page .SubCategory:before { font-size: 1.6em; display: block; margin-left: -0.8em; margin-bottom: 0.5em; } .NetworKit_Page .SubCategory[data-title]:before { content: attr(data-title); } .NetworKit_Page .Block { display: block; } .NetworKit_Page .Block:after { content: \".\"; visibility: hidden; display: block; height: 0; clear: both; } .NetworKit_Page .Block .Thumbnail_Overview, .NetworKit_Page .Block .Thumbnail_ScatterPlot { width: 260px; float: left; } .NetworKit_Page .Block .Thumbnail_Overview img, .NetworKit_Page .Block .Thumbnail_ScatterPlot img { width: 260px; } .NetworKit_Page .Block .Thumbnail_Overview:before, .NetworKit_Page .Block .Thumbnail_ScatterPlot:before { display: block; text-align: center; font-weight: bold; } .NetworKit_Page .Block .Thumbnail_Overview:before { content: attr(data-title); } .NetworKit_Page .HeatCell { font-family: \"Courier New\", Courier, monospace; cursor: pointer; } .NetworKit_Page .HeatCell, .NetworKit_Page .HeatCellName { display: inline; padding: 0.1em; margin-right: 2px; background-color: #FFFFFF } .NetworKit_Page .HeatCellName { margin-left: 0.25em; } .NetworKit_Page .HeatCell:before { content: attr(data-heat); display: inline-block; color: #000000; width: 4em; text-align: center; } .NetworKit_Page .Measure { clear: both; } .NetworKit_Page .Measure .Details { cursor: pointer; } .NetworKit_Page .Measure .Details:before { content: \"[\" attr(data-title) \"]\"; display: block; } .NetworKit_Page .Measure .Details .Value { border-left: 1px dotted black; margin-left: 0.4em; padding-left: 3.5em; pointer-events: none; } .NetworKit_Page .Measure .Details .Spacer:before { content: \".\"; opacity: 0.0; pointer-events: none; } .NetworKit_Page .Measure .Plot { width: 440px; height: 440px; cursor: pointer; float: left; margin-left: -0.9em; margin-right: 20px; } .NetworKit_Page .Measure .Plot .Image { background-repeat: no-repeat; background-position: center center; background-size: contain; height: 100%; pointer-events: none; } .NetworKit_Page .Measure .Stat { width: 500px; float: left; } .NetworKit_Page .Measure .Stat .Group { padding-left: 1.25em; margin-bottom: 0.75em; } .NetworKit_Page .Measure .Stat .Group .Title { font-size: 1.1em; display: block; margin-bottom: 0.3em; margin-left: -0.75em; border-right-style: dotted; border-right-width: 1px; border-bottom-style: dotted; border-bottom-width: 1px; background-color: #D0D0D0; padding-left: 0.2em; } .NetworKit_Page .Measure .Stat .Group .List { -webkit-column-count: 3; -moz-column-count: 3; column-count: 3; } .NetworKit_Page .Measure .Stat .Group .List .Entry { position: relative; line-height: 1.75em; } .NetworKit_Page .Measure .Stat .Group .List .Entry[data-tooltip]:before { position: absolute; left: 0; top: -40px; background-color: #808080; color: #ffffff; height: 30px; line-height: 30px; border-radius: 5px; padding: 0 15px; content: attr(data-tooltip); white-space: nowrap; display: none; } .NetworKit_Page .Measure .Stat .Group .List .Entry[data-tooltip]:after { position: absolute; left: 15px; top: -10px; border-top: 7px solid #808080; border-left: 7px solid transparent; border-right: 7px solid transparent; content: \"\"; display: none; } .NetworKit_Page .Measure .Stat .Group .List .Entry[data-tooltip]:hover:after, .NetworKit_Page .Measure .Stat .Group .List .Entry[data-tooltip]:hover:before { display: block; } .NetworKit_Page .Measure .Stat .Group .List .Entry .MathValue { font-family: \"Courier New\", Courier, monospace; } .NetworKit_Page .Measure:after { content: \".\"; visibility: hidden; display: block; height: 0; clear: both; } .NetworKit_Page .PartitionPie { clear: both; } .NetworKit_Page .PartitionPie img { width: 600px; } #NetworKit_Overlay { left: 0px; top: 0px; display: none; position: absolute; width: 100%; height: 100%; background-color: rgba(0,0,0,0.6); z-index: 1000; } #NetworKit_Overlay_Title { position: absolute; color: white; transform: rotate(-90deg); width: 32em; height: 32em; padding-right: 0.5em; padding-top: 0.5em; text-align: right; font-size: 40px; } #NetworKit_Overlay .button { background: white; cursor: pointer; } #NetworKit_Overlay .button:before { size: 13px; display: inline-block; text-align: center; margin-top: 0.5em; margin-bottom: 0.5em; width: 1.5em; height: 1.5em; } #NetworKit_Overlay .icon-close:before { content: \"X\"; } #NetworKit_Overlay .icon-previous:before { content: \"P\"; } #NetworKit_Overlay .icon-next:before { content: \"N\"; } #NetworKit_Overlay .icon-save:before { content: \"S\"; } #NetworKit_Overlay_Toolbar_Top, #NetworKit_Overlay_Toolbar_Bottom { position: absolute; width: 40px; right: 13px; text-align: right; z-index: 1100; } #NetworKit_Overlay_Toolbar_Top { top: 0.5em; } #NetworKit_Overlay_Toolbar_Bottom { Bottom: 0.5em; } #NetworKit_Overlay_ImageContainer { position: absolute; top: 5%; left: 5%; height: 90%; width: 90%; background-repeat: no-repeat; background-position: center center; background-size: contain; } #NetworKit_Overlay_Image { height: 100%; width: 100%; background-repeat: no-repeat; background-position: center center; background-size: contain; }';\n",
       "\t\t\t\telement.setAttribute('id', 'NetworKit_style');\n",
       "\t\t\t\tdocument.head.appendChild(element);\n",
       "\t\t\t}\n",
       "\t\t\n",
       "\t\t\t\t\n",
       "\t\t\t{\n",
       "\t\t\t\tvar element = document.getElementById('NetworKit_Overlay');\n",
       "\t\t\t\tif (element) {\n",
       "\t\t\t\t\telement.parentNode.removeChild(element);\n",
       "\t\t\t\t}\n",
       "\t\t\t\telement = document.createElement('div');\n",
       "\t\t\t\telement.innerHTML = '<div id=\"NetworKit_Overlay_Toolbar_Top\"><div class=\"button icon-close\" id=\"NetworKit_Overlay_Close\" /></div><div id=\"NetworKit_Overlay_Title\" /> <div id=\"NetworKit_Overlay_ImageContainer\"> <div id=\"NetworKit_Overlay_Image\" /> </div> <div id=\"NetworKit_Overlay_Toolbar_Bottom\"> <div class=\"button icon-previous\" onclick=\"NetworKit_overlayImageShift(-1)\" /> <div class=\"button icon-next\" onclick=\"NetworKit_overlayImageShift(1)\" /> <a id=\"NetworKit_Overlay_Toolbar_Bottom_Save\"><div class=\"button icon-save\" /></a> </div>';\n",
       "\t\t\t\telement.setAttribute('id', 'NetworKit_Overlay');\n",
       "\t\t\t\tdocument.body.appendChild(element);\n",
       "\t\t\t\tdocument.getElementById('NetworKit_Overlay_Close').onclick = function (e) {\n",
       "\t\t\t\t\tdocument.getElementById('NetworKit_Overlay').style.display = 'none';\n",
       "\t\t\t\t}\n",
       "\t\t\t}\n",
       "\t\t\n",
       "\t\t\t-->\n",
       "\t\t\t</script>\n",
       "\t\t"
      ]
     },
     "metadata": {},
     "output_type": "display_data"
    }
   ],
   "source": [
    "from DrBC_model import DrBC\n",
    "from scipy.stats import kendalltau\n",
    "from networkit.centrality import KadabraBetweenness\n",
    "from networkit.graph import Graph"
   ]
  },
  {
   "cell_type": "code",
   "execution_count": 3,
   "id": "4dd3dea2-f084-4631-88ff-a807695f8ad7",
   "metadata": {},
   "outputs": [],
   "source": [
    "def evaluate(pred, label, N):\n",
    "    \n",
    "    len_ = label.shape[0]\n",
    "    N_ = math.ceil(len_*N/100)\n",
    "    \n",
    "    top_pred = torch.topk(pred,N_).indices\n",
    "    top_label = torch.topk(label,N_).indices\n",
    "    count = 0\n",
    "    for i in top_pred:\n",
    "        if i in top_label:\n",
    "            count +=1\n",
    "    acc = count / N_\n",
    "    return acc\n",
    "    "
   ]
  },
  {
   "cell_type": "markdown",
   "id": "7c86bfea-b328-4ce6-8a3a-3a795b9f1d71",
   "metadata": {},
   "source": [
    "# Train model"
   ]
  },
  {
   "cell_type": "code",
   "execution_count": 70,
   "id": "14aa7f96-f1cd-49d5-bb62-1fb093293e52",
   "metadata": {},
   "outputs": [],
   "source": [
    "EMBEDDING_SIZE = 12\n",
    "node_default_dim = 3  # [degree, 1, 1]\n",
    "layer = 5\n",
    "num_nodes = 200\n",
    "batch = 1\n",
    "episode = 10\n",
    "Drbc = DrBC(EMBEDDING_SIZE,node_default_dim,layer,batch)\n",
    "pred,loss_list = Drbc.train(episode,num_nodes)"
   ]
  },
  {
   "cell_type": "code",
   "execution_count": 71,
   "id": "c9214db8-9b35-4f3a-8ef2-89350ae5e535",
   "metadata": {},
   "outputs": [
    {
     "data": {
      "image/png": "[encoded data removed]",
      "text/plain": [
       "<Figure size 640x480 with 1 Axes>"
      ]
     },
     "metadata": {},
     "output_type": "display_data"
    }
   ],
   "source": [
    "fig = plt.figure(1)\t#identifies the figure \n",
    "#plt.title(\"Y vs X\", fontsize='16')\t#title\n",
    "plt.plot([i for i in range(episode)], loss_list)\t#plot the points\n",
    "plt.xlabel(\"epoch\",fontsize='13')\t#adds a label in the x axis\n",
    "plt.ylabel(\"loss\",fontsize='13')\t#adds a label in the y axis\n",
    "#plt.legend(('YvsX'),loc='best')\t#creates a legend to identify the plot\n",
    "plt.savefig('try_loss.png')\t#saves the figure in the present directory\n",
    "plt.grid()\t#shows a grid under the plot\n",
    "plt.show()"
   ]
  },
  {
   "cell_type": "markdown",
   "id": "4035e15e-9c9c-4ead-9146-79d6620f3e84",
   "metadata": {},
   "source": [
    "# predict test data"
   ]
  },
  {
   "cell_type": "code",
   "execution_count": 3,
   "id": "aaed3853-d938-44ec-9336-5f97e682c5ae",
   "metadata": {},
   "outputs": [],
   "source": [
    "## create graph\n",
    "# edge_index.shpae = [2,num_nodes]\n",
    "\n",
    "df = pd.read_csv('hw1_data/Synthetic/5000/4.txt', sep=\"\\t\", header=None)\n",
    "edge_index = torch.tensor(np.array(df).T, dtype=torch.long)\n",
    "num_nodes  = torch.unique(edge_index).shape\n",
    "graph = Data(edge_index=edge_index,num_nodes=num_nodes[0])\n",
    "score = pd.read_csv('hw1_data/Synthetic/5000/4_score.txt', sep=\"\\t\", header=None)\n",
    "score = torch.tensor(score[1].values)"
   ]
  },
  {
   "cell_type": "code",
   "execution_count": 74,
   "id": "a77dd7aa-c9e6-4b68-b345-b988b40dd1a1",
   "metadata": {},
   "outputs": [],
   "source": [
    "pred,loss_list =Drbc.predict(graph,score,graph.num_nodes)"
   ]
  },
  {
   "cell_type": "code",
   "execution_count": 85,
   "id": "455b9285-4a0d-49b1-ab00-77ee5a62d9a8",
   "metadata": {},
   "outputs": [
    {
     "name": "stdout",
     "output_type": "stream",
     "text": [
      "Top-1 Accuracy on the test data is : 0.0\n",
      "Top-5 Accuracy on the test data is : 0.012\n",
      "Top-10 Accuracy on the test data is : 0.012\n",
      "Kendall tau distance is : 0.2707\n"
     ]
    }
   ],
   "source": [
    "\n",
    "acc = evaluate(pred, score, 1)\n",
    "print('Top-1 Accuracy on the test data is : ' + str(acc))\n",
    "\n",
    "acc = evaluate(pred, score, 5)\n",
    "print('Top-5 Accuracy on the test data is : ' + str(acc))\n",
    "\n",
    "acc = evaluate(pred, score, 10)\n",
    "print('Top-10 Accuracy on the test data is : ' + str(acc))\n",
    "\n",
    "tau, p_value  = kendalltau(pred.argsort().detach().numpy(), score.argsort().detach().numpy())\n",
    "print('Kendall tau distance is : '+str(round(tau,4)))"
   ]
  },
  {
   "cell_type": "markdown",
   "id": "e3b03e07-0c8d-4d20-a635-afea20cd8231",
   "metadata": {},
   "source": [
    "# Pipeline"
   ]
  },
  {
   "cell_type": "code",
   "execution_count": 29,
   "id": "10e287ee-9b31-4ba6-a50c-28d71dcd292a",
   "metadata": {},
   "outputs": [
    {
     "name": "stdout",
     "output_type": "stream",
     "text": [
      "tensor([0.], grad_fn=<Unique2Backward0>)\n",
      "tensor([0.], grad_fn=<Unique2Backward0>)\n",
      "tensor([0.], grad_fn=<Unique2Backward0>)\n",
      "tensor([0.], grad_fn=<Unique2Backward0>)\n",
      "tensor([0.], grad_fn=<Unique2Backward0>)\n",
      "tensor([0.], grad_fn=<Unique2Backward0>)\n",
      "tensor([0.0033, 0.0042, 0.0047,  ..., 0.0298, 0.0307, 0.0314],\n",
      "       grad_fn=<Unique2Backward0>)\n",
      "tensor([0.0024, 0.0033, 0.0042,  ..., 0.0303, 0.0316, 0.0322],\n",
      "       grad_fn=<Unique2Backward0>)\n",
      "tensor([0.0024, 0.0033, 0.0042,  ..., 0.0287, 0.0291, 0.0318],\n",
      "       grad_fn=<Unique2Backward0>)\n",
      "tensor([-8.1064e-05, -7.6240e-05, -7.0148e-05, -6.5573e-05, -5.8118e-05,\n",
      "        -5.7571e-05, -5.5519e-05, -5.0345e-05, -4.9869e-05, -4.9866e-05,\n",
      "        -4.9801e-05, -4.9685e-05, -4.9581e-05, -4.9578e-05, -4.9574e-05,\n",
      "        -4.9249e-05, -4.9244e-05, -4.9131e-05, -4.8909e-05, -4.8907e-05,\n",
      "        -4.8801e-05, -4.8686e-05, -4.8686e-05, -4.8686e-05, -4.8684e-05,\n",
      "        -4.8615e-05, -4.8575e-05, -4.8573e-05, -4.8461e-05, -4.8356e-05,\n",
      "        -4.8348e-05, -4.8291e-05, -4.7960e-05, -4.7696e-05, -4.7555e-05,\n",
      "        -4.7422e-05, -4.7320e-05, -4.7316e-05, -4.7080e-05, -4.7043e-05,\n",
      "        -4.7014e-05, -4.6994e-05, -4.6938e-05, -4.6780e-05, -4.6731e-05,\n",
      "        -4.6700e-05, -4.6639e-05, -4.6622e-05, -4.6618e-05, -4.6600e-05,\n",
      "        -4.6597e-05, -4.6591e-05, -4.6564e-05, -4.6560e-05, -4.6504e-05,\n",
      "        -4.6477e-05, -4.6475e-05, -4.6472e-05, -4.6462e-05, -4.6316e-05,\n",
      "        -4.6215e-05, -4.6100e-05, -4.6096e-05, -4.6073e-05, -4.6071e-05,\n",
      "        -4.6070e-05, -4.6021e-05, -4.5899e-05, -4.5880e-05, -4.5855e-05,\n",
      "        -4.5756e-05, -4.5612e-05, -4.5539e-05, -4.5538e-05, -4.5537e-05,\n",
      "        -4.5536e-05, -4.5498e-05, -4.5493e-05, -4.5388e-05, -4.5282e-05,\n",
      "        -4.5270e-05, -4.5253e-05, -4.5144e-05, -4.5100e-05, -4.5099e-05,\n",
      "        -4.5072e-05, -4.5017e-05, -4.5002e-05, -4.5001e-05, -4.4997e-05,\n",
      "        -4.4889e-05, -4.4875e-05, -4.4772e-05, -4.4726e-05, -4.4697e-05,\n",
      "        -4.4663e-05, -4.4660e-05, -4.4652e-05, -4.4573e-05, -4.4528e-05,\n",
      "        -4.4519e-05, -4.4505e-05, -4.4468e-05, -4.4441e-05, -4.4400e-05,\n",
      "        -4.4215e-05, -4.4179e-05, -4.4166e-05, -4.4152e-05, -4.4149e-05,\n",
      "        -4.4118e-05, -4.4055e-05, -4.4028e-05, -4.4026e-05, -4.4001e-05,\n",
      "        -4.3928e-05, -4.3923e-05, -4.3923e-05, -4.3923e-05, -4.3920e-05,\n",
      "        -4.3917e-05, -4.3860e-05, -4.3614e-05, -4.3545e-05, -4.3525e-05,\n",
      "        -4.3483e-05, -4.3400e-05, -4.3221e-05, -4.3079e-05, -4.3074e-05,\n",
      "        -4.3029e-05, -4.3019e-05, -4.3002e-05, -4.2971e-05, -4.2849e-05,\n",
      "        -4.2848e-05, -4.2846e-05, -4.2845e-05, -4.2837e-05, -4.2784e-05,\n",
      "        -4.2753e-05, -4.2583e-05, -4.2581e-05, -4.2580e-05, -4.2577e-05,\n",
      "        -4.2489e-05, -4.2488e-05, -4.2478e-05, -4.2307e-05, -4.2302e-05,\n",
      "        -4.2147e-05, -4.2135e-05, -4.2117e-05, -4.2091e-05, -4.2084e-05,\n",
      "        -4.2052e-05, -4.2050e-05, -4.2016e-05, -4.2001e-05, -4.1997e-05,\n",
      "        -4.1779e-05, -4.1764e-05, -4.1761e-05, -4.1714e-05, -4.1671e-05,\n",
      "        -4.1666e-05, -4.1651e-05, -4.1645e-05, -4.1633e-05, -4.1623e-05,\n",
      "        -4.1621e-05, -4.1611e-05, -4.1553e-05, -4.1502e-05, -4.1480e-05,\n",
      "        -4.1441e-05, -4.1417e-05, -4.1343e-05, -4.1200e-05, -4.1144e-05,\n",
      "        -4.1125e-05, -4.1094e-05, -4.1063e-05, -4.1043e-05, -4.1043e-05,\n",
      "        -4.1037e-05, -4.1019e-05, -4.0999e-05, -4.0847e-05, -4.0833e-05,\n",
      "        -4.0750e-05, -4.0734e-05, -4.0729e-05, -4.0662e-05, -4.0651e-05,\n",
      "        -4.0605e-05, -4.0593e-05, -4.0569e-05, -4.0556e-05, -4.0550e-05,\n",
      "        -4.0543e-05, -4.0488e-05, -4.0447e-05, -4.0225e-05, -4.0211e-05,\n",
      "        -4.0198e-05, -4.0195e-05, -4.0171e-05, -4.0142e-05, -4.0139e-05,\n",
      "        -4.0082e-05, -4.0076e-05, -4.0070e-05, -4.0029e-05, -4.0028e-05,\n",
      "        -4.0018e-05, -4.0001e-05, -3.9936e-05, -3.9912e-05, -3.9891e-05,\n",
      "        -3.9855e-05, -3.9851e-05, -3.9688e-05, -3.9680e-05, -3.9680e-05,\n",
      "        -3.9616e-05, -3.9603e-05, -3.9597e-05, -3.9580e-05, -3.9576e-05,\n",
      "        -3.9547e-05, -3.9534e-05, -3.9528e-05, -3.9528e-05, -3.9524e-05,\n",
      "        -3.9510e-05, -3.9500e-05, -3.9490e-05, -3.9488e-05, -3.9459e-05,\n",
      "        -3.9420e-05, -3.9411e-05, -3.9402e-05, -3.9352e-05, -3.9275e-05,\n",
      "        -3.9245e-05, -3.9237e-05, -3.9221e-05, -3.9212e-05, -3.9202e-05,\n",
      "        -3.9172e-05, -3.9168e-05, -3.9141e-05, -3.9122e-05, -3.9121e-05,\n",
      "        -3.9062e-05, -3.9058e-05, -3.9057e-05, -3.9035e-05, -3.8998e-05,\n",
      "        -3.8997e-05, -3.8994e-05, -3.8994e-05, -3.8985e-05, -3.8945e-05,\n",
      "        -3.8845e-05, -3.8762e-05, -3.8749e-05, -3.8731e-05, -3.8725e-05,\n",
      "        -3.8708e-05, -3.8686e-05, -3.8684e-05, -3.8680e-05, -3.8667e-05,\n",
      "        -3.8657e-05, -3.8633e-05, -3.8633e-05, -3.8630e-05, -3.8627e-05,\n",
      "        -3.8623e-05, -3.8613e-05, -3.8607e-05, -3.8585e-05, -3.8582e-05,\n",
      "        -3.8575e-05, -3.8565e-05, -3.8558e-05, -3.8553e-05, -3.8545e-05,\n",
      "        -3.8542e-05, -3.8539e-05, -3.8538e-05, -3.8537e-05, -3.8532e-05,\n",
      "        -3.8522e-05, -3.8521e-05, -3.8519e-05, -3.8499e-05, -3.8493e-05,\n",
      "        -3.8450e-05, -3.8445e-05, -3.8400e-05, -3.8332e-05, -3.8214e-05,\n",
      "        -3.8203e-05, -3.8169e-05, -3.8158e-05, -3.8154e-05, -3.8149e-05,\n",
      "        -3.8135e-05, -3.8106e-05, -3.8097e-05, -3.8097e-05, -3.8094e-05,\n",
      "        -3.8092e-05, -3.8087e-05, -3.8084e-05, -3.8079e-05, -3.8077e-05,\n",
      "        -3.8074e-05, -3.8068e-05, -3.8062e-05, -3.8052e-05, -3.8052e-05,\n",
      "        -3.8045e-05, -3.8040e-05, -3.8027e-05, -3.8013e-05, -3.8003e-05,\n",
      "        -3.8003e-05, -3.8000e-05, -3.7990e-05, -3.7976e-05, -3.7970e-05,\n",
      "        -3.7931e-05, -3.7871e-05, -3.7869e-05, -3.7001e-05, -3.4818e-05,\n",
      "        -3.2636e-05, -3.0453e-05, -2.8270e-05, -2.6179e-05, -2.4091e-05,\n",
      "        -2.2002e-05, -1.9914e-05, -1.7826e-05, -1.5738e-05, -1.3749e-05,\n",
      "        -1.1847e-05], grad_fn=<Unique2Backward0>)\n",
      "tensor([-7.7766e-05, -7.3445e-05, -6.3242e-05, -6.0949e-05, -5.8122e-05,\n",
      "        -5.6573e-05, -5.6034e-05, -5.4740e-05, -5.2647e-05, -4.9860e-05,\n",
      "        -4.9797e-05, -4.9686e-05, -4.9572e-05, -4.9565e-05, -4.9354e-05,\n",
      "        -4.9352e-05, -4.9262e-05, -4.9253e-05, -4.9248e-05, -4.9240e-05,\n",
      "        -4.9135e-05, -4.9130e-05, -4.9126e-05, -4.9024e-05, -4.8796e-05,\n",
      "        -4.8755e-05, -4.8688e-05, -4.8686e-05, -4.8459e-05, -4.8350e-05,\n",
      "        -4.8290e-05, -4.8161e-05, -4.8017e-05, -4.8016e-05, -4.8014e-05,\n",
      "        -4.7962e-05, -4.7695e-05, -4.7694e-05, -4.7664e-05, -4.7647e-05,\n",
      "        -4.7625e-05, -4.7353e-05, -4.7279e-05, -4.7277e-05, -4.7205e-05,\n",
      "        -4.7200e-05, -4.7161e-05, -4.7161e-05, -4.7156e-05, -4.7154e-05,\n",
      "        -4.7138e-05, -4.7022e-05, -4.7017e-05, -4.7013e-05, -4.6980e-05,\n",
      "        -4.6974e-05, -4.6904e-05, -4.6894e-05, -4.6888e-05, -4.6791e-05,\n",
      "        -4.6753e-05, -4.6702e-05, -4.6701e-05, -4.6642e-05, -4.6624e-05,\n",
      "        -4.6619e-05, -4.6616e-05, -4.6610e-05, -4.6548e-05, -4.6484e-05,\n",
      "        -4.6380e-05, -4.6370e-05, -4.6337e-05, -4.6277e-05, -4.6265e-05,\n",
      "        -4.6234e-05, -4.6077e-05, -4.6077e-05, -4.6076e-05, -4.6076e-05,\n",
      "        -4.6049e-05, -4.5843e-05, -4.5742e-05, -4.5638e-05, -4.5544e-05,\n",
      "        -4.5543e-05, -4.5540e-05, -4.5535e-05, -4.5530e-05, -4.5380e-05,\n",
      "        -4.5153e-05, -4.5133e-05, -4.5123e-05, -4.5123e-05, -4.5120e-05,\n",
      "        -4.5117e-05, -4.5055e-05, -4.5022e-05, -4.5003e-05, -4.4909e-05,\n",
      "        -4.4831e-05, -4.4787e-05, -4.4769e-05, -4.4610e-05, -4.4583e-05,\n",
      "        -4.4481e-05, -4.4478e-05, -4.4466e-05, -4.4460e-05, -4.4456e-05,\n",
      "        -4.4455e-05, -4.4422e-05, -4.4415e-05, -4.4396e-05, -4.4326e-05,\n",
      "        -4.4251e-05, -4.4120e-05, -4.4060e-05, -4.4011e-05, -4.3985e-05,\n",
      "        -4.3946e-05, -4.3937e-05, -4.3927e-05, -4.3925e-05, -4.3922e-05,\n",
      "        -4.3719e-05, -4.3628e-05, -4.3504e-05, -4.3402e-05, -4.3380e-05,\n",
      "        -4.3377e-05, -4.3357e-05, -4.3270e-05, -4.3239e-05, -4.3206e-05,\n",
      "        -4.3167e-05, -4.3166e-05, -4.3143e-05, -4.3057e-05, -4.2977e-05,\n",
      "        -4.2856e-05, -4.2847e-05, -4.2847e-05, -4.2844e-05, -4.2844e-05,\n",
      "        -4.2841e-05, -4.2841e-05, -4.2733e-05, -4.2647e-05, -4.2588e-05,\n",
      "        -4.2576e-05, -4.2514e-05, -4.2454e-05, -4.2454e-05, -4.2413e-05,\n",
      "        -4.2341e-05, -4.2306e-05, -4.2306e-05, -4.2302e-05, -4.2210e-05,\n",
      "        -4.2188e-05, -4.2119e-05, -4.2110e-05, -4.2101e-05, -4.2088e-05,\n",
      "        -4.2082e-05, -4.2055e-05, -4.2028e-05, -4.2014e-05, -4.1971e-05,\n",
      "        -4.1765e-05, -4.1763e-05, -4.1763e-05, -4.1635e-05, -4.1596e-05,\n",
      "        -4.1593e-05, -4.1578e-05, -4.1539e-05, -4.1525e-05, -4.1510e-05,\n",
      "        -4.1505e-05, -4.1500e-05, -4.1436e-05, -4.1237e-05, -4.1226e-05,\n",
      "        -4.1215e-05, -4.1212e-05, -4.1211e-05, -4.1210e-05, -4.1135e-05,\n",
      "        -4.1134e-05, -4.1123e-05, -4.1097e-05, -4.1066e-05, -4.1050e-05,\n",
      "        -4.1042e-05, -4.1022e-05, -4.1002e-05, -4.0910e-05, -4.0896e-05,\n",
      "        -4.0866e-05, -4.0731e-05, -4.0687e-05, -4.0666e-05, -4.0664e-05,\n",
      "        -4.0659e-05, -4.0613e-05, -4.0611e-05, -4.0591e-05, -4.0572e-05,\n",
      "        -4.0569e-05, -4.0549e-05, -4.0538e-05, -4.0503e-05, -4.0458e-05,\n",
      "        -4.0412e-05, -4.0228e-05, -4.0203e-05, -4.0193e-05, -4.0166e-05,\n",
      "        -4.0159e-05, -4.0157e-05, -4.0145e-05, -4.0141e-05, -4.0124e-05,\n",
      "        -4.0121e-05, -4.0111e-05, -4.0106e-05, -4.0101e-05, -4.0099e-05,\n",
      "        -4.0088e-05, -4.0074e-05, -4.0056e-05, -4.0047e-05, -4.0046e-05,\n",
      "        -4.0040e-05, -4.0033e-05, -4.0019e-05, -3.9954e-05, -3.9947e-05,\n",
      "        -3.9931e-05, -3.9900e-05, -3.9872e-05, -3.9855e-05, -3.9825e-05,\n",
      "        -3.9709e-05, -3.9705e-05, -3.9668e-05, -3.9652e-05, -3.9640e-05,\n",
      "        -3.9635e-05, -3.9611e-05, -3.9603e-05, -3.9601e-05, -3.9598e-05,\n",
      "        -3.9582e-05, -3.9545e-05, -3.9535e-05, -3.9530e-05, -3.9515e-05,\n",
      "        -3.9497e-05, -3.9366e-05, -3.9269e-05, -3.9225e-05, -3.9211e-05,\n",
      "        -3.9205e-05, -3.9172e-05, -3.9165e-05, -3.9149e-05, -3.9140e-05,\n",
      "        -3.9138e-05, -3.9135e-05, -3.9130e-05, -3.9123e-05, -3.9122e-05,\n",
      "        -3.9108e-05, -3.9076e-05, -3.9068e-05, -3.9065e-05, -3.9064e-05,\n",
      "        -3.9050e-05, -3.9019e-05, -3.9009e-05, -3.9002e-05, -3.8997e-05,\n",
      "        -3.8989e-05, -3.8964e-05, -3.8929e-05, -3.8910e-05, -3.8882e-05,\n",
      "        -3.8868e-05, -3.8754e-05, -3.8701e-05, -3.8693e-05, -3.8687e-05,\n",
      "        -3.8660e-05, -3.8659e-05, -3.8648e-05, -3.8627e-05, -3.8627e-05,\n",
      "        -3.8621e-05, -3.8592e-05, -3.8591e-05, -3.8578e-05, -3.8554e-05,\n",
      "        -3.8551e-05, -3.8545e-05, -3.8538e-05, -3.8494e-05, -3.8453e-05,\n",
      "        -3.8446e-05, -3.8440e-05, -3.8433e-05, -3.8269e-05, -3.8228e-05,\n",
      "        -3.8190e-05, -3.8173e-05, -3.8172e-05, -3.8164e-05, -3.8137e-05,\n",
      "        -3.8100e-05, -3.8097e-05, -3.8096e-05, -3.8095e-05, -3.8073e-05,\n",
      "        -3.8071e-05, -3.8065e-05, -3.8065e-05, -3.8059e-05, -3.8055e-05,\n",
      "        -3.8029e-05, -3.8027e-05, -3.8014e-05, -3.8011e-05, -3.7987e-05,\n",
      "        -3.7979e-05, -3.7913e-05, -3.7895e-05, -3.7888e-05, -3.7886e-05,\n",
      "        -3.7835e-05, -3.7001e-05, -3.4818e-05, -3.2636e-05, -3.0453e-05,\n",
      "        -2.8270e-05, -2.6179e-05, -2.4091e-05, -2.2002e-05, -1.9914e-05,\n",
      "        -1.7826e-05, -1.5738e-05, -1.3749e-05, -1.1847e-05, -9.9455e-06],\n",
      "       grad_fn=<Unique2Backward0>)\n",
      "tensor([-8.2066e-05, -7.4997e-05, -7.3713e-05, -6.9137e-05, -6.4013e-05,\n",
      "        -5.9404e-05, -5.7834e-05, -5.4214e-05, -5.1900e-05, -5.1372e-05,\n",
      "        -4.9691e-05, -4.9572e-05, -4.9352e-05, -4.9349e-05, -4.9256e-05,\n",
      "        -4.9248e-05, -4.9245e-05, -4.9024e-05, -4.9019e-05, -4.9017e-05,\n",
      "        -4.8931e-05, -4.8910e-05, -4.8800e-05, -4.8797e-05, -4.8687e-05,\n",
      "        -4.8685e-05, -4.8684e-05, -4.8683e-05, -4.8575e-05, -4.8574e-05,\n",
      "        -4.8574e-05, -4.8570e-05, -4.8457e-05, -4.8388e-05, -4.8351e-05,\n",
      "        -4.8242e-05, -4.8237e-05, -4.8128e-05, -4.8018e-05, -4.8015e-05,\n",
      "        -4.8014e-05, -4.8013e-05, -4.7640e-05, -4.7357e-05, -4.7300e-05,\n",
      "        -4.7191e-05, -4.7178e-05, -4.7160e-05, -4.7158e-05, -4.7157e-05,\n",
      "        -4.7144e-05, -4.7137e-05, -4.7051e-05, -4.7047e-05, -4.7027e-05,\n",
      "        -4.7022e-05, -4.7015e-05, -4.7014e-05, -4.6970e-05, -4.6968e-05,\n",
      "        -4.6966e-05, -4.6924e-05, -4.6915e-05, -4.6815e-05, -4.6791e-05,\n",
      "        -4.6755e-05, -4.6681e-05, -4.6677e-05, -4.6654e-05, -4.6630e-05,\n",
      "        -4.6615e-05, -4.6614e-05, -4.6520e-05, -4.6406e-05, -4.6215e-05,\n",
      "        -4.6082e-05, -4.6080e-05, -4.6080e-05, -4.6078e-05, -4.6075e-05,\n",
      "        -4.6048e-05, -4.5981e-05, -4.5942e-05, -4.5863e-05, -4.5810e-05,\n",
      "        -4.5804e-05, -4.5622e-05, -4.5566e-05, -4.5555e-05, -4.5540e-05,\n",
      "        -4.5540e-05, -4.5532e-05, -4.5429e-05, -4.5405e-05, -4.5393e-05,\n",
      "        -4.5220e-05, -4.5131e-05, -4.5130e-05, -4.5040e-05, -4.5022e-05,\n",
      "        -4.5013e-05, -4.4999e-05, -4.4968e-05, -4.4806e-05, -4.4765e-05,\n",
      "        -4.4758e-05, -4.4718e-05, -4.4701e-05, -4.4672e-05, -4.4535e-05,\n",
      "        -4.4473e-05, -4.4465e-05, -4.4463e-05, -4.4461e-05, -4.4460e-05,\n",
      "        -4.4281e-05, -4.4264e-05, -4.4191e-05, -4.4179e-05, -4.4155e-05,\n",
      "        -4.4145e-05, -4.4086e-05, -4.3920e-05, -4.3917e-05, -4.3886e-05,\n",
      "        -4.3789e-05, -4.3711e-05, -4.3612e-05, -4.3591e-05, -4.3575e-05,\n",
      "        -4.3572e-05, -4.3530e-05, -4.3502e-05, -4.3481e-05, -4.3429e-05,\n",
      "        -4.3402e-05, -4.3385e-05, -4.3385e-05, -4.3382e-05, -4.3268e-05,\n",
      "        -4.3249e-05, -4.3237e-05, -4.3007e-05, -4.2992e-05, -4.2847e-05,\n",
      "        -4.2841e-05, -4.2678e-05, -4.2658e-05, -4.2603e-05, -4.2585e-05,\n",
      "        -4.2530e-05, -4.2527e-05, -4.2506e-05, -4.2431e-05, -4.2386e-05,\n",
      "        -4.2298e-05, -4.1946e-05, -4.1763e-05, -4.1761e-05, -4.1747e-05,\n",
      "        -4.1732e-05, -4.1731e-05, -4.1687e-05, -4.1683e-05, -4.1681e-05,\n",
      "        -4.1673e-05, -4.1665e-05, -4.1654e-05, -4.1622e-05, -4.1606e-05,\n",
      "        -4.1593e-05, -4.1583e-05, -4.1567e-05, -4.1546e-05, -4.1531e-05,\n",
      "        -4.1456e-05, -4.1432e-05, -4.1374e-05, -4.1320e-05, -4.1221e-05,\n",
      "        -4.1221e-05, -4.1214e-05, -4.1171e-05, -4.1159e-05, -4.1148e-05,\n",
      "        -4.1142e-05, -4.1124e-05, -4.1106e-05, -4.1049e-05, -4.1040e-05,\n",
      "        -4.0995e-05, -4.0987e-05, -4.0961e-05, -4.0942e-05, -4.0790e-05,\n",
      "        -4.0711e-05, -4.0681e-05, -4.0652e-05, -4.0622e-05, -4.0613e-05,\n",
      "        -4.0570e-05, -4.0534e-05, -4.0441e-05, -4.0175e-05, -4.0163e-05,\n",
      "        -4.0152e-05, -4.0143e-05, -4.0139e-05, -4.0128e-05, -4.0125e-05,\n",
      "        -4.0062e-05, -4.0061e-05, -4.0057e-05, -4.0057e-05, -4.0054e-05,\n",
      "        -4.0016e-05, -4.0009e-05, -3.9995e-05, -3.9986e-05, -3.9962e-05,\n",
      "        -3.9958e-05, -3.9922e-05, -3.9917e-05, -3.9809e-05, -3.9684e-05,\n",
      "        -3.9680e-05, -3.9654e-05, -3.9607e-05, -3.9606e-05, -3.9599e-05,\n",
      "        -3.9598e-05, -3.9568e-05, -3.9554e-05, -3.9550e-05, -3.9538e-05,\n",
      "        -3.9520e-05, -3.9492e-05, -3.9437e-05, -3.9239e-05, -3.9200e-05,\n",
      "        -3.9186e-05, -3.9182e-05, -3.9168e-05, -3.9168e-05, -3.9162e-05,\n",
      "        -3.9151e-05, -3.9143e-05, -3.9137e-05, -3.9072e-05, -3.9070e-05,\n",
      "        -3.9060e-05, -3.9024e-05, -3.9007e-05, -3.8996e-05, -3.8991e-05,\n",
      "        -3.8949e-05, -3.8942e-05, -3.8939e-05, -3.8892e-05, -3.8881e-05,\n",
      "        -3.8874e-05, -3.8759e-05, -3.8746e-05, -3.8707e-05, -3.8679e-05,\n",
      "        -3.8678e-05, -3.8651e-05, -3.8650e-05, -3.8647e-05, -3.8640e-05,\n",
      "        -3.8637e-05, -3.8626e-05, -3.8616e-05, -3.8597e-05, -3.8591e-05,\n",
      "        -3.8584e-05, -3.8577e-05, -3.8566e-05, -3.8561e-05, -3.8549e-05,\n",
      "        -3.8543e-05, -3.8543e-05, -3.8542e-05, -3.8537e-05, -3.8533e-05,\n",
      "        -3.8531e-05, -3.8512e-05, -3.8509e-05, -3.8500e-05, -3.8498e-05,\n",
      "        -3.8478e-05, -3.8468e-05, -3.8466e-05, -3.8452e-05, -3.8435e-05,\n",
      "        -3.8356e-05, -3.8258e-05, -3.8240e-05, -3.8223e-05, -3.8206e-05,\n",
      "        -3.8179e-05, -3.8174e-05, -3.8163e-05, -3.8163e-05, -3.8156e-05,\n",
      "        -3.8144e-05, -3.8138e-05, -3.8131e-05, -3.8126e-05, -3.8121e-05,\n",
      "        -3.8110e-05, -3.8097e-05, -3.8093e-05, -3.8086e-05, -3.8083e-05,\n",
      "        -3.8078e-05, -3.8077e-05, -3.8057e-05, -3.8048e-05, -3.8026e-05,\n",
      "        -3.8019e-05, -3.8004e-05, -3.7998e-05, -3.7996e-05, -3.7981e-05,\n",
      "        -3.7973e-05, -3.7966e-05, -3.7954e-05, -3.7952e-05, -3.7950e-05,\n",
      "        -3.7947e-05, -3.7939e-05, -3.7932e-05, -3.7930e-05, -3.7908e-05,\n",
      "        -3.7880e-05, -3.7793e-05, -3.7001e-05, -3.4818e-05, -3.2636e-05,\n",
      "        -3.0453e-05, -2.8270e-05, -2.6179e-05, -2.4091e-05, -2.2002e-05,\n",
      "        -1.9914e-05, -1.7826e-05, -1.5738e-05, -1.3749e-05, -1.1847e-05,\n",
      "        -9.9455e-06], grad_fn=<Unique2Backward0>)\n",
      "tensor([0.], grad_fn=<Unique2Backward0>)\n",
      "tensor([0.], grad_fn=<Unique2Backward0>)\n",
      "tensor([0.], grad_fn=<Unique2Backward0>)\n"
     ]
    },
    {
     "data": {
      "text/plain": [
       "<Figure size 640x480 with 0 Axes>"
      ]
     },
     "metadata": {},
     "output_type": "display_data"
    }
   ],
   "source": [
    "train_config ={'EMBEDDING_SIZE' : 16,\n",
    "               'node_default_dim' : 3,  # [degree, 1, 1]\n",
    "                'encoder_layer' : 5,\n",
    "                'num_nodes' : None,\n",
    "                'batch' : 1,\n",
    "                'episode' : 10,}\n",
    "\n",
    "\n",
    "#將預測結果輸出至txt檔\n",
    "with open('output.txt', 'w') as f:\n",
    "\n",
    "\n",
    "    scale = [100,200,300,400,500]#,1000,3000]\n",
    "    \n",
    "    for i in scale:\n",
    "        top1 = []\n",
    "        top5 = []\n",
    "        top10 = []\n",
    "        K_tau = []\n",
    "        kadabra_score = []\n",
    "        \n",
    "        pred_time = []\n",
    "        train_config['num_nodes']= i \n",
    "        \n",
    "        \n",
    "        \n",
    "        \n",
    "        f.write('scale size = '+str(i)+\"\\n\")\n",
    "        f.write(json.dumps(train_config))\n",
    "        f.write(\"\\n\")\n",
    "        f.write(\"\\n\")\n",
    "        # train\n",
    "        start = time.time()\n",
    "        Drbc = DrBC(train_config['EMBEDDING_SIZE'],\n",
    "                    train_config['node_default_dim'],\n",
    "                    train_config['encoder_layer'],\n",
    "                    train_config['batch'])\n",
    "        pred,loss_list = Drbc.train(train_config['episode'],train_config['num_nodes'])\n",
    "        end = time.time()\n",
    "        f.write('running time = '+str(end-start)+\"\\n\")\n",
    "        f.write(\"\\n\")\n",
    "        torch.save(Drbc,f'Drbc{train_config[\"num_nodes\"]}.pt')\n",
    "        \n",
    "        # loss plot\n",
    "        fig = plt.figure(1)\t#identifies the figure \n",
    "        plt.plot([i for i in range(train_config['episode'])], loss_list)\n",
    "        plt.xlabel(\"epoch\",fontsize='13')\n",
    "        plt.ylabel(\"loss\",fontsize='13')\n",
    "        plt.grid()\n",
    "        plt.savefig(f'scale{i}_loss.png')\n",
    "        plt.clf()\n",
    "        \n",
    "        # predict\n",
    "        \n",
    "        for j in range(3):\n",
    "            \n",
    "            f.write('test on data '+str(j)+\"\\n\")\n",
    "            f.write(\"\\n\")\n",
    "            df = pd.read_csv(f'hw1_data/Synthetic/5000/{j}.txt', sep=\"\\t\", header=None)\n",
    "            edge_index = torch.tensor(np.array(df).T, dtype=torch.long)\n",
    "            num_nodes  = torch.unique(edge_index).shape\n",
    "            graph = Data(edge_index=edge_index,num_nodes=num_nodes[0])\n",
    "            score = pd.read_csv(f'hw1_data/Synthetic/5000/{j}_score.txt', sep=\"\\t\", header=None)\n",
    "            score = torch.tensor(score[1].values)\n",
    "            \n",
    "            start = time.time()\n",
    "            pred,loss_list =Drbc.predict(graph,score,graph.num_nodes)\n",
    "            end = time.time()\n",
    "            pred_time.append(end-start)\n",
    "            print(pred.unique())\n",
    "            \n",
    "            acc = evaluate(pred, score, 1)\n",
    "            top1.append(acc)\n",
    "            f.write(f'Top-1 Accuracy on the test data {j} is : ' + str(acc)+\"\\n\")\n",
    "\n",
    "            acc = evaluate(pred, score, 5)\n",
    "            top5.append(acc)\n",
    "            f.write(f'Top-5 Accuracy on the test data {j} is : ' + str(acc)+\"\\n\")\n",
    "\n",
    "            acc = evaluate(pred, score, 10)\n",
    "            top10.append(acc)\n",
    "            f.write(f'Top-10 Accuracy on the test data {j} is : ' + str(acc)+\"\\n\")\n",
    "\n",
    "            tau, p_value  = kendalltau(pred.argsort().detach().numpy(), score.argsort().detach().numpy())\n",
    "            K_tau.append(tau)\n",
    "            f.write('Kendall tau distance is : '+str(round(tau,4))+\"\\n\")\n",
    "            \n",
    "            gra = Graph()\n",
    "            gra.addNodes(num_nodes[0])\n",
    "            for k in range(df.shape[0]):\n",
    "                gra.addEdge(np.array(df)[k][0],np.array(df)[k][1])\n",
    "            \n",
    "            kadabra = KadabraBetweenness(gra,err = 0.01, delta = 0.1, k = 0,).run().scores()\n",
    "            kada_s = sum(kadabra)/len(kadabra)\n",
    "            kadabra_score.append(kada_s)\n",
    "            f.write('kadabra score on test data:'+str(kada_s)+\"\\n\")\n",
    "            f.write(\"\\n\")\n",
    "            \n",
    "        top1_mean = round(sum(top1)/len(top1),4)\n",
    "        f.write('mean of top1 accuracy is : '+str(top1_mean)+\"\\n\")\n",
    "        top5_mean = round(sum(top5)/len(top5),4)\n",
    "        f.write('mean of top5 accuracy is : '+str(top5_mean)+\"\\n\")\n",
    "        top10_mean = round(sum(top10)/len(top10),4)\n",
    "        f.write('mean of top10 accuracy is : '+str(top10_mean)+\"\\n\")\n",
    "        K_tau_mean = round(sum(K_tau)/len(K_tau),4)\n",
    "        f.write('mean of tau accuracy is : '+str(K_tau_mean)+\"\\n\")\n",
    "        kadabra_score_mean = round(sum(kadabra_score)/len(kadabra_score),4)\n",
    "        f.write('mean of kadabra accuracy is : '+str(kadabra_score_mean)+\"\\n\")\n",
    "        f.write(\"\\n\")\n",
    "        \n",
    "        average_time = round(sum(pred_time)/len(pred_time),4)\n",
    "        f.write('average predict time = '+str(average_time)+\"\\n\")\n",
    "        f.write(\"\\n\")"
   ]
  },
  {
   "cell_type": "code",
   "execution_count": 24,
   "id": "70bf0d88-7215-47a3-87d4-e54b28e0b8bc",
   "metadata": {},
   "outputs": [
    {
     "data": {
      "text/plain": [
       "tensor([-1.1842e-04, -1.1842e-04, -1.1830e-04, -1.1830e-04, -1.1828e-04,\n",
       "        -1.1828e-04, -1.1826e-04, -1.1824e-04, -1.1822e-04, -1.1663e-04,\n",
       "        -1.1577e-04, -1.1576e-04, -1.1493e-04, -1.1487e-04, -1.1466e-04,\n",
       "        -1.1438e-04, -1.1432e-04, -1.1418e-04, -1.1374e-04, -1.1369e-04,\n",
       "        -1.1352e-04, -1.1350e-04, -1.1337e-04, -1.1320e-04, -1.1315e-04,\n",
       "        -1.1308e-04, -1.1306e-04, -1.1300e-04, -1.1283e-04, -1.1283e-04,\n",
       "        -1.1278e-04, -1.1272e-04, -1.1258e-04, -1.1255e-04, -1.1253e-04,\n",
       "        -1.1253e-04, -1.1250e-04, -1.1249e-04, -1.1249e-04, -1.1249e-04,\n",
       "        -1.1247e-04, -1.1243e-04, -1.1242e-04, -1.1237e-04, -1.1230e-04,\n",
       "        -1.1229e-04, -1.1229e-04, -1.1226e-04, -1.1222e-04, -1.1220e-04,\n",
       "        -1.1219e-04, -1.1215e-04, -1.1195e-04, -1.1178e-04, -1.1168e-04,\n",
       "        -1.1167e-04, -1.1164e-04, -1.1160e-04, -1.1147e-04, -1.1146e-04,\n",
       "        -1.1123e-04, -1.1064e-04, -1.1055e-04, -1.1053e-04, -1.1034e-04,\n",
       "        -1.1034e-04, -1.1030e-04, -1.0986e-04, -1.0933e-04, -1.0928e-04,\n",
       "        -1.0917e-04, -1.0912e-04, -1.0840e-04, -1.0753e-04, -1.0752e-04,\n",
       "        -1.0707e-04, -1.0613e-04, -1.0612e-04, -1.0558e-04, -1.0527e-04,\n",
       "        -1.0508e-04, -1.0501e-04, -1.0441e-04, -1.0345e-04, -1.0146e-04,\n",
       "        -1.0125e-04, -1.0121e-04, -1.0121e-04, -1.0089e-04, -9.9086e-05,\n",
       "        -9.7962e-05, -9.7936e-05, -9.7912e-05, -9.7818e-05, -9.7152e-05,\n",
       "        -9.7152e-05, -9.6749e-05, -9.6406e-05, -9.5917e-05, -9.4928e-05,\n",
       "        -9.4374e-05, -9.3815e-05, -9.3813e-05, -9.3587e-05, -9.3092e-05,\n",
       "        -9.3092e-05, -9.1832e-05, -9.1149e-05, -9.0781e-05, -9.0656e-05,\n",
       "        -8.9297e-05, -8.9031e-05, -8.6939e-05, -8.5606e-05, -8.4971e-05,\n",
       "        -8.4310e-05, -8.3149e-05, -8.1999e-05, -8.1890e-05, -8.1843e-05,\n",
       "        -8.1812e-05, -8.1484e-05, -8.0910e-05, -7.9670e-05, -7.9653e-05,\n",
       "        -7.9298e-05, -7.9219e-05, -7.9164e-05, -7.9164e-05, -7.6850e-05,\n",
       "        -7.6640e-05, -7.6621e-05, -7.6385e-05, -7.4442e-05, -7.4354e-05,\n",
       "        -7.3346e-05, -7.2789e-05, -7.2333e-05, -7.2278e-05, -7.2110e-05,\n",
       "        -7.0052e-05, -6.9786e-05, -6.8729e-05, -6.8729e-05, -6.6912e-05,\n",
       "        -6.5418e-05, -6.5078e-05, -6.4935e-05, -6.4668e-05, -6.4078e-05,\n",
       "        -6.2483e-05, -6.1190e-05, -6.0608e-05, -6.0608e-05, -5.6423e-05,\n",
       "        -5.6423e-05, -5.5764e-05, -5.5759e-05, -5.5231e-05, -5.3207e-05,\n",
       "        -5.2171e-05, -5.2171e-05, -5.0907e-05, -5.0783e-05, -4.8731e-05,\n",
       "        -4.7850e-05, -4.7844e-05, -4.7844e-05, -4.5723e-05, -4.5318e-05,\n",
       "        -4.5293e-05, -4.5103e-05, -4.3679e-05, -4.3530e-05, -4.3530e-05,\n",
       "        -4.3287e-05, -4.2508e-05, -4.2290e-05, -4.2245e-05, -3.9445e-05,\n",
       "        -3.9249e-05, -3.9249e-05, -3.8835e-05, -3.6235e-05, -3.5219e-05,\n",
       "        -3.5022e-05, -3.4898e-05, -3.3805e-05, -3.0290e-05, -3.0290e-05,\n",
       "        -3.0290e-05, -2.9647e-05, -2.8507e-05, -2.8397e-05, -2.8215e-05,\n",
       "        -2.7150e-05, -2.5817e-05, -2.5758e-05, -2.4391e-05, -2.3880e-05,\n",
       "        -2.3369e-05, -2.3138e-05, -2.2818e-05, -2.2706e-05, -2.2532e-05,\n",
       "        -2.2485e-05, -2.2468e-05, -2.1885e-05, -2.1669e-05, -2.1363e-05,\n",
       "        -2.1130e-05, -1.2128e-05,  0.0000e+00], grad_fn=<Unique2Backward0>)"
      ]
     },
     "execution_count": 24,
     "metadata": {},
     "output_type": "execute_result"
    }
   ],
   "source": [
    "pred,loss_list =Drbc.predict(graph,score,graph.num_nodes)\n",
    "pred.unique()"
   ]
  },
  {
   "cell_type": "code",
   "execution_count": 12,
   "id": "b143b473-3982-47b9-85f6-41d265f7a1b5",
   "metadata": {},
   "outputs": [
    {
     "data": {
      "text/plain": [
       "[17328.67780138949]"
      ]
     },
     "execution_count": 12,
     "metadata": {},
     "output_type": "execute_result"
    }
   ],
   "source": [
    "loss_list"
   ]
  },
  {
   "cell_type": "code",
   "execution_count": null,
   "id": "34de5de0-223f-4cdb-80d9-45d9d1092c93",
   "metadata": {},
   "outputs": [],
   "source": []
  },
  {
   "cell_type": "code",
   "execution_count": 127,
   "id": "68b567d8-2449-4faf-a9f4-c5c92b8deca5",
   "metadata": {},
   "outputs": [],
   "source": [
    "import json\n",
    "\n",
    "# as requested in comment\n",
    "train_config ={'EMBEDDING_SIZE' : 12,\n",
    "               'node_default_dim' : 3 , # [degree, 1, 1]\n",
    "                'encoder_layer' : 5,\n",
    "                'num_nodes' : None,\n",
    "                'batch' : 1,\n",
    "                'episode' : 100,}\n",
    "\n",
    "\n",
    "with open('file.txt', 'w') as file:\n",
    "     file.write(json.dumps(train_config))"
   ]
  },
  {
   "cell_type": "code",
   "execution_count": 17,
   "id": "b0db6f90-d9f1-4e40-9e5d-cbe59c1fcef7",
   "metadata": {},
   "outputs": [],
   "source": [
    "DrBC_model200_10000 = DrBC_model"
   ]
  },
  {
   "cell_type": "code",
   "execution_count": 8,
   "id": "ad348f56-394b-4866-a118-7899f0c0b69e",
   "metadata": {},
   "outputs": [
    {
     "data": {
      "text/plain": [
       "<DrBC_model.DrBC at 0x7f34cf913f40>"
      ]
     },
     "execution_count": 8,
     "metadata": {},
     "output_type": "execute_result"
    }
   ],
   "source": [
    "DrBC_model[0]"
   ]
  },
  {
   "cell_type": "code",
   "execution_count": 22,
   "id": "dd2a2b82-44b1-42c5-b3d9-6910b65cb14a",
   "metadata": {},
   "outputs": [
    {
     "data": {
      "text/plain": [
       "0.0005"
      ]
     },
     "execution_count": 22,
     "metadata": {},
     "output_type": "execute_result"
    }
   ],
   "source": [
    "round(sum(top10)/len(top10),4)"
   ]
  },
  {
   "cell_type": "code",
   "execution_count": 7,
   "id": "6c9835c5-f0ba-437a-9eb3-24558324b197",
   "metadata": {},
   "outputs": [
    {
     "ename": "NameError",
     "evalue": "name 'DrbC' is not defined",
     "output_type": "error",
     "traceback": [
      "\u001b[0;31m---------------------------------------------------------------------------\u001b[0m",
      "\u001b[0;31mNameError\u001b[0m                                 Traceback (most recent call last)",
      "Cell \u001b[0;32mIn[7], line 1\u001b[0m\n\u001b[0;32m----> 1\u001b[0m \u001b[43mDrbC\u001b[49m\n",
      "\u001b[0;31mNameError\u001b[0m: name 'DrbC' is not defined"
     ]
    }
   ],
   "source": [
    "DrbC"
   ]
  },
  {
   "cell_type": "code",
   "execution_count": 13,
   "id": "8c0829c6-2894-4c6c-9cd0-0680a62578ef",
   "metadata": {},
   "outputs": [],
   "source": [
    "torch.save(Drbc,'Drbc.pt')"
   ]
  },
  {
   "cell_type": "code",
   "execution_count": 20,
   "id": "8a5aef15-e79b-4b04-8f6e-b2b5238cef2c",
   "metadata": {},
   "outputs": [],
   "source": [
    "Drbc__ = DrBC(train_config['EMBEDDING_SIZE'],\n",
    "                    train_config['node_default_dim'],\n",
    "                    train_config['encoder_layer'],\n",
    "                    train_config['batch'])\n",
    "Drbc__ = torch.load('Drbc.pt')"
   ]
  },
  {
   "cell_type": "code",
   "execution_count": 19,
   "id": "a44f8356-444c-412a-90fa-3389c6fd8c54",
   "metadata": {},
   "outputs": [
    {
     "ename": "AttributeError",
     "evalue": "'DrBC' object has no attribute 'load_state_dict'",
     "output_type": "error",
     "traceback": [
      "\u001b[0;31m---------------------------------------------------------------------------\u001b[0m",
      "\u001b[0;31mAttributeError\u001b[0m                            Traceback (most recent call last)",
      "Cell \u001b[0;32mIn[19], line 1\u001b[0m\n\u001b[0;32m----> 1\u001b[0m \u001b[43mDrbc__\u001b[49m\u001b[38;5;241;43m.\u001b[39;49m\u001b[43mload_state_dict\u001b[49m(torch\u001b[38;5;241m.\u001b[39mload(\u001b[38;5;124m'\u001b[39m\u001b[38;5;124mDrbc.pt\u001b[39m\u001b[38;5;124m'\u001b[39m))\n",
      "\u001b[0;31mAttributeError\u001b[0m: 'DrBC' object has no attribute 'load_state_dict'"
     ]
    }
   ],
   "source": [
    "Drbc__.torch.load('Drbc.pt')"
   ]
  },
  {
   "cell_type": "code",
   "execution_count": 21,
   "id": "7fe8c8cb-6341-4849-ad1f-e5f213da8d5c",
   "metadata": {},
   "outputs": [
    {
     "data": {
      "text/plain": [
       "(tensor([2.4077e-04, 2.0562e-04, 1.8109e-04,  ..., 2.8663e-06, 2.8663e-06,\n",
       "         2.8663e-06], grad_fn=<ReshapeAliasBackward0>),\n",
       " [17328.67671143992])"
      ]
     },
     "execution_count": 21,
     "metadata": {},
     "output_type": "execute_result"
    }
   ],
   "source": [
    "Drbc__.predict(graph,score,graph.num_nodes)"
   ]
  },
  {
   "cell_type": "code",
   "execution_count": 13,
   "id": "1f6ada7a-ed7f-4ca7-95e6-20caf378d99e",
   "metadata": {},
   "outputs": [
    {
     "data": {
      "text/plain": [
       "(tensor([0., 0., 0.,  ..., 0., 0., 0.], grad_fn=<ReshapeAliasBackward0>),\n",
       " [17328.67956161499])"
      ]
     },
     "execution_count": 13,
     "metadata": {},
     "output_type": "execute_result"
    }
   ],
   "source": [
    "Drbc__.predict(graph,score,graph.num_nodes)"
   ]
  },
  {
   "cell_type": "code",
   "execution_count": 15,
   "id": "56fa313b-be60-4f0c-b83a-4b17b0b6b16f",
   "metadata": {},
   "outputs": [
    {
     "data": {
      "text/plain": [
       "(tensor([0., 0., 0.,  ..., 0., 0., 0.], grad_fn=<ReshapeAliasBackward0>),\n",
       " [17328.679647963516])"
      ]
     },
     "execution_count": 15,
     "metadata": {},
     "output_type": "execute_result"
    }
   ],
   "source": [
    "Drbc.predict(graph,score,graph.num_nodes)"
   ]
  },
  {
   "cell_type": "code",
   "execution_count": null,
   "id": "5f02a5a0-4200-4aa0-8300-47bd42d171c3",
   "metadata": {},
   "outputs": [],
   "source": []
  }
 ],
 "metadata": {
  "kernelspec": {
   "display_name": "geometric",
   "language": "python",
   "name": "geometric"
  },
  "language_info": {
   "codemirror_mode": {
    "name": "ipython",
    "version": 3
   },
   "file_extension": ".py",
   "mimetype": "text/x-python",
   "name": "python",
   "nbconvert_exporter": "python",
   "pygments_lexer": "ipython3",
   "version": "3.10.9"
  }
 },
 "nbformat": 4,
 "nbformat_minor": 5
}
